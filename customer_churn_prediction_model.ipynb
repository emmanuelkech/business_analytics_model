{
 "cells": [
  {
   "cell_type": "markdown",
   "metadata": {},
   "source": [
    "### Importing Libraries\n",
    "This section lists all the necessary libraries needed for the model development."
   ]
  },
  {
   "cell_type": "code",
   "execution_count": 53,
   "metadata": {},
   "outputs": [],
   "source": [
    "import pandas as pd\n",
    "from sklearn.model_selection import train_test_split\n",
    "from sklearn.linear_model import LogisticRegression\n",
    "from sklearn.tree import DecisionTreeClassifier\n",
    "from sklearn.metrics import accuracy_score, precision_score, recall_score, f1_score, roc_auc_score"
   ]
  },
  {
   "cell_type": "markdown",
   "metadata": {},
   "source": [
    "### Loading the Dataset\n",
    "The dataset that intended to be used in building the model was previously cleaned and preprocessed in Milestone 1. The data is ready to be used in model development."
   ]
  },
  {
   "cell_type": "code",
   "execution_count": 54,
   "metadata": {},
   "outputs": [
    {
     "name": "stdout",
     "output_type": "stream",
     "text": [
      "The dataset has 100000 Rows and 20 columns\n"
     ]
    },
    {
     "data": {
      "text/html": [
       "<div>\n",
       "<style scoped>\n",
       "    .dataframe tbody tr th:only-of-type {\n",
       "        vertical-align: middle;\n",
       "    }\n",
       "\n",
       "    .dataframe tbody tr th {\n",
       "        vertical-align: top;\n",
       "    }\n",
       "\n",
       "    .dataframe thead th {\n",
       "        text-align: right;\n",
       "    }\n",
       "</style>\n",
       "<table border=\"1\" class=\"dataframe\">\n",
       "  <thead>\n",
       "    <tr style=\"text-align: right;\">\n",
       "      <th></th>\n",
       "      <th>CustomerID</th>\n",
       "      <th>Age</th>\n",
       "      <th>SubscriptionPlan</th>\n",
       "      <th>MonthlySpend</th>\n",
       "      <th>AccountAgeMonths</th>\n",
       "      <th>WatchTimeHours</th>\n",
       "      <th>CustomerSupportCalls</th>\n",
       "      <th>Churn</th>\n",
       "      <th>Gender_Male</th>\n",
       "      <th>Gender_Other</th>\n",
       "      <th>Region_Dhaka</th>\n",
       "      <th>Region_Kolkata</th>\n",
       "      <th>Region_Others</th>\n",
       "      <th>Region_Siliguri</th>\n",
       "      <th>DeviceType_PC</th>\n",
       "      <th>DeviceType_Smart TV</th>\n",
       "      <th>DeviceType_Tablet</th>\n",
       "      <th>PreferredLanguage_English</th>\n",
       "      <th>PreferredLanguage_Hindi</th>\n",
       "      <th>PreferredLanguage_Others</th>\n",
       "    </tr>\n",
       "  </thead>\n",
       "  <tbody>\n",
       "    <tr>\n",
       "      <th>0</th>\n",
       "      <td>92874</td>\n",
       "      <td>0.117647</td>\n",
       "      <td>3</td>\n",
       "      <td>0.127063</td>\n",
       "      <td>5</td>\n",
       "      <td>0.050418</td>\n",
       "      <td>4</td>\n",
       "      <td>0</td>\n",
       "      <td>False</td>\n",
       "      <td>False</td>\n",
       "      <td>False</td>\n",
       "      <td>False</td>\n",
       "      <td>False</td>\n",
       "      <td>False</td>\n",
       "      <td>True</td>\n",
       "      <td>False</td>\n",
       "      <td>False</td>\n",
       "      <td>False</td>\n",
       "      <td>False</td>\n",
       "      <td>True</td>\n",
       "    </tr>\n",
       "    <tr>\n",
       "      <th>1</th>\n",
       "      <td>52015</td>\n",
       "      <td>0.196078</td>\n",
       "      <td>2</td>\n",
       "      <td>0.076124</td>\n",
       "      <td>40</td>\n",
       "      <td>0.045347</td>\n",
       "      <td>6</td>\n",
       "      <td>0</td>\n",
       "      <td>True</td>\n",
       "      <td>False</td>\n",
       "      <td>False</td>\n",
       "      <td>False</td>\n",
       "      <td>False</td>\n",
       "      <td>False</td>\n",
       "      <td>False</td>\n",
       "      <td>False</td>\n",
       "      <td>True</td>\n",
       "      <td>False</td>\n",
       "      <td>True</td>\n",
       "      <td>False</td>\n",
       "    </tr>\n",
       "    <tr>\n",
       "      <th>2</th>\n",
       "      <td>45860</td>\n",
       "      <td>0.274510</td>\n",
       "      <td>2</td>\n",
       "      <td>0.074501</td>\n",
       "      <td>13</td>\n",
       "      <td>0.045347</td>\n",
       "      <td>1</td>\n",
       "      <td>1</td>\n",
       "      <td>True</td>\n",
       "      <td>False</td>\n",
       "      <td>False</td>\n",
       "      <td>False</td>\n",
       "      <td>False</td>\n",
       "      <td>False</td>\n",
       "      <td>False</td>\n",
       "      <td>True</td>\n",
       "      <td>False</td>\n",
       "      <td>True</td>\n",
       "      <td>False</td>\n",
       "      <td>False</td>\n",
       "    </tr>\n",
       "    <tr>\n",
       "      <th>3</th>\n",
       "      <td>24080</td>\n",
       "      <td>0.117647</td>\n",
       "      <td>3</td>\n",
       "      <td>0.065101</td>\n",
       "      <td>12</td>\n",
       "      <td>0.036415</td>\n",
       "      <td>8</td>\n",
       "      <td>1</td>\n",
       "      <td>True</td>\n",
       "      <td>False</td>\n",
       "      <td>False</td>\n",
       "      <td>False</td>\n",
       "      <td>True</td>\n",
       "      <td>False</td>\n",
       "      <td>False</td>\n",
       "      <td>False</td>\n",
       "      <td>True</td>\n",
       "      <td>False</td>\n",
       "      <td>True</td>\n",
       "      <td>False</td>\n",
       "    </tr>\n",
       "    <tr>\n",
       "      <th>4</th>\n",
       "      <td>41229</td>\n",
       "      <td>0.019608</td>\n",
       "      <td>1</td>\n",
       "      <td>0.065293</td>\n",
       "      <td>43</td>\n",
       "      <td>0.022776</td>\n",
       "      <td>8</td>\n",
       "      <td>0</td>\n",
       "      <td>False</td>\n",
       "      <td>False</td>\n",
       "      <td>True</td>\n",
       "      <td>False</td>\n",
       "      <td>False</td>\n",
       "      <td>False</td>\n",
       "      <td>False</td>\n",
       "      <td>True</td>\n",
       "      <td>False</td>\n",
       "      <td>False</td>\n",
       "      <td>False</td>\n",
       "      <td>True</td>\n",
       "    </tr>\n",
       "  </tbody>\n",
       "</table>\n",
       "</div>"
      ],
      "text/plain": [
       "   CustomerID       Age  SubscriptionPlan  MonthlySpend  AccountAgeMonths  \\\n",
       "0       92874  0.117647                 3      0.127063                 5   \n",
       "1       52015  0.196078                 2      0.076124                40   \n",
       "2       45860  0.274510                 2      0.074501                13   \n",
       "3       24080  0.117647                 3      0.065101                12   \n",
       "4       41229  0.019608                 1      0.065293                43   \n",
       "\n",
       "   WatchTimeHours  CustomerSupportCalls  Churn  Gender_Male  Gender_Other  \\\n",
       "0        0.050418                     4      0        False         False   \n",
       "1        0.045347                     6      0         True         False   \n",
       "2        0.045347                     1      1         True         False   \n",
       "3        0.036415                     8      1         True         False   \n",
       "4        0.022776                     8      0        False         False   \n",
       "\n",
       "   Region_Dhaka  Region_Kolkata  Region_Others  Region_Siliguri  \\\n",
       "0         False           False          False            False   \n",
       "1         False           False          False            False   \n",
       "2         False           False          False            False   \n",
       "3         False           False           True            False   \n",
       "4          True           False          False            False   \n",
       "\n",
       "   DeviceType_PC  DeviceType_Smart TV  DeviceType_Tablet  \\\n",
       "0           True                False              False   \n",
       "1          False                False               True   \n",
       "2          False                 True              False   \n",
       "3          False                False               True   \n",
       "4          False                 True              False   \n",
       "\n",
       "   PreferredLanguage_English  PreferredLanguage_Hindi  \\\n",
       "0                      False                    False   \n",
       "1                      False                     True   \n",
       "2                       True                    False   \n",
       "3                      False                     True   \n",
       "4                      False                    False   \n",
       "\n",
       "   PreferredLanguage_Others  \n",
       "0                      True  \n",
       "1                     False  \n",
       "2                     False  \n",
       "3                     False  \n",
       "4                      True  "
      ]
     },
     "execution_count": 54,
     "metadata": {},
     "output_type": "execute_result"
    }
   ],
   "source": [
    "# Load the dataset\n",
    "file_path = 'cleaned_customer_churn_dataset.csv'\n",
    "data = pd.read_csv(file_path)\n",
    "\n",
    "# Print the shape of the dataset\n",
    "print(f\"The dataset has {data.shape[0]} Rows and {data.shape[1]} columns\")\n",
    "\n",
    "# Display the first few rows of the dataset\n",
    "data_head = data.head()\n",
    "\n",
    "data_head\n",
    "\n"
   ]
  },
  {
   "cell_type": "markdown",
   "metadata": {},
   "source": [
    "### Splitting the Dataset\n",
    "I will split the dataset into training and testing subsets. The training subset of 80% will be used to train the model while the remaining 20% will be for testing."
   ]
  },
  {
   "cell_type": "code",
   "execution_count": 55,
   "metadata": {},
   "outputs": [
    {
     "data": {
      "text/plain": [
       "((80000, 18), (20000, 18), (80000,), (20000,))"
      ]
     },
     "execution_count": 55,
     "metadata": {},
     "output_type": "execute_result"
    }
   ],
   "source": [
    "# Define features (X) and target (y)\n",
    "X = data.drop(columns=['CustomerID', 'Churn']) # Exclude ID and target column\n",
    "y = data['Churn']\n",
    "\n",
    "# Split the data into training and testing sets (80% train, 20% test)\n",
    "X_train, X_test, y_train, y_test = train_test_split(X, y, test_size=0.2, random_state=42, stratify=y)\n",
    "\n",
    "# Check the shapes of the resulting splits\n",
    "X_train.shape, X_test.shape, y_train.shape, y_test.shape"
   ]
  },
  {
   "cell_type": "markdown",
   "metadata": {},
   "source": [
    "### Training and Evaluating the Logistic Regression Model\n",
    "I am starting with the Logistic Regression model as I indicated this model as my first choice. I would also evaluate the model based on metrics like accuracy, precision, recall, f1-score and AUC-ROC."
   ]
  },
  {
   "cell_type": "code",
   "execution_count": 56,
   "metadata": {},
   "outputs": [
    {
     "name": "stdout",
     "output_type": "stream",
     "text": [
      "Logistic Regression Accuracy: 0.70025\n",
      "Logistic Regression Precision: 0.0\n",
      "Logistic Regression Recall: 0.0\n",
      "Logistic Regression F1 Score: 0.0\n",
      "Logistic Regression AUC-ROC: 0.4993363206694619\n"
     ]
    },
    {
     "name": "stderr",
     "output_type": "stream",
     "text": [
      "c:\\Users\\eikec\\AppData\\Local\\Programs\\Python\\Python313\\Lib\\site-packages\\sklearn\\metrics\\_classification.py:1565: UndefinedMetricWarning: Precision is ill-defined and being set to 0.0 due to no predicted samples. Use `zero_division` parameter to control this behavior.\n",
      "  _warn_prf(average, modifier, f\"{metric.capitalize()} is\", len(result))\n"
     ]
    }
   ],
   "source": [
    "# Initialize and train the Logistic Regression model\n",
    "log_model = LogisticRegression(max_iter=1000, random_state=42)\n",
    "log_model.fit(X_train, y_train)\n",
    "\n",
    "# Predictions on test set\n",
    "y_pred_log = log_model.predict(X_test)\n",
    "\n",
    "# Logistic Regression Evaluation\n",
    "print(\"Logistic Regression Accuracy:\", accuracy_score(y_test, y_pred_log))\n",
    "print(\"Logistic Regression Precision:\", precision_score(y_test, y_pred_log))\n",
    "print(\"Logistic Regression Recall:\", recall_score(y_test, y_pred_log))\n",
    "print(\"Logistic Regression F1 Score:\", f1_score(y_test, y_pred_log))\n",
    "print(\"Logistic Regression AUC-ROC:\", roc_auc_score(y_test, log_model.predict_proba(X_test)[:, 1]))\n"
   ]
  },
  {
   "cell_type": "markdown",
   "metadata": {},
   "source": [
    "### Training and Evaluating the Decision Tree Model\n",
    "The Decision Tree model is an alternative approach that would be used to compare the performance of both models for churn prediction. I would also evaluate the model based on same metrics I used for the Logistic Regression."
   ]
  },
  {
   "cell_type": "code",
   "execution_count": 57,
   "metadata": {},
   "outputs": [
    {
     "name": "stdout",
     "output_type": "stream",
     "text": [
      "Decision Tree Accuracy: 0.56985\n",
      "Decision Tree Precision: 0.29425686336383716\n",
      "Decision Tree Recall: 0.311092577147623\n",
      "Decision Tree F1 Score: 0.30244060650287846\n",
      "Decision Tree AUC-ROC: 0.49585332177623925\n"
     ]
    }
   ],
   "source": [
    "# Initialize and train the Decision Tree model\n",
    "dt_model = DecisionTreeClassifier(random_state=42)\n",
    "dt_model.fit(X_train, y_train)\n",
    "\n",
    "# Predictions on test set\n",
    "y_pred_dt = dt_model.predict(X_test)\n",
    "\n",
    "# Decision Tree Evaluation\n",
    "print(\"Decision Tree Accuracy:\", accuracy_score(y_test, y_pred_dt))\n",
    "print(\"Decision Tree Precision:\", precision_score(y_test, y_pred_dt))\n",
    "print(\"Decision Tree Recall:\", recall_score(y_test, y_pred_dt))\n",
    "print(\"Decision Tree F1 Score:\", f1_score(y_test, y_pred_dt))\n",
    "print(\"Decision Tree AUC-ROC:\", roc_auc_score(y_test, dt_model.predict_proba(X_test)[:, 1]))\n"
   ]
  }
 ],
 "metadata": {
  "kernelspec": {
   "display_name": "Python 3",
   "language": "python",
   "name": "python3"
  },
  "language_info": {
   "codemirror_mode": {
    "name": "ipython",
    "version": 3
   },
   "file_extension": ".py",
   "mimetype": "text/x-python",
   "name": "python",
   "nbconvert_exporter": "python",
   "pygments_lexer": "ipython3",
   "version": "3.13.1"
  }
 },
 "nbformat": 4,
 "nbformat_minor": 2
}
